{
 "cells": [
  {
   "cell_type": "markdown",
   "id": "3e4e8c63",
   "metadata": {},
   "source": [
    "# This is an password generator program."
   ]
  },
  {
   "cell_type": "code",
   "execution_count": 3,
   "id": "a46887ca",
   "metadata": {},
   "outputs": [
    {
     "name": "stdout",
     "output_type": "stream",
     "text": [
      "Password Generator and Saver\n",
      "Choose the level of password:\n",
      "1. Alphabets and Numbers\n",
      "2. Alphabets, Numbers, and a Single Symbol\n",
      "3. Alphabets, Numbers, and Multiple Symbols\n",
      "Enter the level number: 2\n",
      "Generated Password: KW#59Gav0Nxs\n",
      "Do you want to use this password? (yes/no): yes\n",
      "Enter your email address: afjd\n",
      "Enter the website: drfkjdsf\n",
      "Password saved successfully.\n"
     ]
    }
   ],
   "source": [
    "import random\n",
    "import string\n",
    "\n",
    "def generate_password(level):\n",
    "    if level == 1:\n",
    "        characters = string.ascii_letters + string.digits\n",
    "    elif level == 2:\n",
    "        characters = string.ascii_letters + string.digits + '@#$'\n",
    "    elif level == 3:\n",
    "        characters = string.ascii_letters + string.digits + '@#$' + ''.join(random.choices(string.punctuation, k=3))\n",
    "    \n",
    "    password_length = 10  # You can adjust the desired length\n",
    "    \n",
    "    password = ''.join(random.choice(characters) for _ in range(password_length))\n",
    "    return password\n",
    "\n",
    "def main():\n",
    "    print(\"Password Generator and Saver\")\n",
    "    print(\"Choose the level of password:\")\n",
    "    print(\"1. Alphabets and Numbers\")\n",
    "    print(\"2. Alphabets, Numbers, and a Single Symbol\")\n",
    "    print(\"3. Alphabets, Numbers, and Multiple Symbols\")\n",
    "    \n",
    "    level = int(input(\"Enter the level number: \"))\n",
    "    \n",
    "    generated_password = generate_password(level)\n",
    "    print(f\"Generated Password: {generated_password}\")\n",
    "    \n",
    "    use_password = input(\"Do you want to use this password? (yes/no): \")\n",
    "    \n",
    "    if use_password.lower() == 'yes':\n",
    "        email = input(\"Enter your email address: \")\n",
    "        website = input(\"Enter the website: \")\n",
    "        \n",
    "        with open(\"passwords.txt\", \"a\") as file:\n",
    "            file.write(f\"Website: {website}\\n\")\n",
    "            file.write(f\"Email: {email}\\n\")\n",
    "            file.write(f\"Password: {generated_password}\\n\\n\")\n",
    "        \n",
    "        print(\"Password saved successfully.\")\n",
    "\n",
    "if __name__ == \"__main__\":\n",
    "    main()\n"
   ]
  },
  {
   "cell_type": "code",
   "execution_count": null,
   "id": "e1fcdf17",
   "metadata": {},
   "outputs": [],
   "source": []
  }
 ],
 "metadata": {
  "kernelspec": {
   "display_name": "Python 3 (ipykernel)",
   "language": "python",
   "name": "python3"
  },
  "language_info": {
   "codemirror_mode": {
    "name": "ipython",
    "version": 3
   },
   "file_extension": ".py",
   "mimetype": "text/x-python",
   "name": "python",
   "nbconvert_exporter": "python",
   "pygments_lexer": "ipython3",
   "version": "3.9.12"
  }
 },
 "nbformat": 4,
 "nbformat_minor": 5
}
